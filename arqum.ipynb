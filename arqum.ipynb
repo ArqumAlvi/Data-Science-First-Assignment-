{
 "cells": [
  {
   "cell_type": "code",
   "execution_count": 12,
   "id": "d57a8887",
   "metadata": {},
   "outputs": [
    {
     "name": "stdout",
     "output_type": "stream",
     "text": [
      "Twinkle, twinkle, little star, \n",
      "\tHow I wonder what you are! \n",
      "\t\tUp above the world so high, \n",
      "\t\tLike a diamond in the sky. \n",
      "Twinkle, twinkle, little star, \n",
      "\tHow I wonder what you are!\n"
     ]
    }
   ],
   "source": [
    "print(\"Twinkle, twinkle, little star, \\n\\tHow I wonder what you are! \\n\\t\\tUp above the world so high, \\n\\t\\tLike a diamond in the sky. \\nTwinkle, twinkle, little star, \\n\\tHow I wonder what you are!\")"
   ]
  },
  {
   "cell_type": "code",
   "execution_count": 7,
   "id": "723ece19",
   "metadata": {},
   "outputs": [
    {
     "name": "stdout",
     "output_type": "stream",
     "text": [
      "Current date and time : \n",
      "2022-01-01 23:28:45\n"
     ]
    }
   ],
   "source": [
    "import datetime\n",
    "now = datetime.datetime.now()\n",
    "print (\"Current date and time : \")\n",
    "print (now.strftime(\"%Y-%m-%d %H:%M:%S\"))\n"
   ]
  },
  {
   "cell_type": "code",
   "execution_count": 8,
   "id": "db59b69f",
   "metadata": {},
   "outputs": [
    {
     "name": "stdout",
     "output_type": "stream",
     "text": [
      "3.9.7\n"
     ]
    }
   ],
   "source": [
    "import platform\n",
    "\n",
    "print(platform.python_version())\n"
   ]
  },
  {
   "cell_type": "code",
   "execution_count": 9,
   "id": "5f9e3929",
   "metadata": {},
   "outputs": [
    {
     "name": "stdout",
     "output_type": "stream",
     "text": [
      "Enter radius of circle: 3\n",
      "Area of circle = 28.274309999999996\n"
     ]
    }
   ],
   "source": [
    "r = float(input(\"Enter radius of circle: \"))\n",
    "a = 3.14159 * r * r\n",
    "print(\"Area of circle =\", a)"
   ]
  },
  {
   "cell_type": "code",
   "execution_count": 10,
   "id": "bdc8f6c1",
   "metadata": {},
   "outputs": [
    {
     "name": "stdout",
     "output_type": "stream",
     "text": [
      "Input your First Name : Arqum \n",
      "Input your Last Name : Alvi\n",
      "Hello  Alvi Arqum \n"
     ]
    }
   ],
   "source": [
    "fname = input(\"Input your First Name : \")\n",
    "lname = input(\"Input your Last Name : \")\n",
    "print (\"Hello  \" + lname + \" \" + fname)\n"
   ]
  },
  {
   "cell_type": "code",
   "execution_count": 11,
   "id": "f1979580",
   "metadata": {},
   "outputs": [
    {
     "name": "stdout",
     "output_type": "stream",
     "text": [
      "enter first number : 25\n",
      "enter second number : 55\n",
      "sum of 25 and 55 is 80\n"
     ]
    }
   ],
   "source": [
    "first=int(input(\"enter first number : \"))\n",
    "\n",
    "Second=int(input(\"enter second number : \"))\n",
    "\n",
    "print(\"sum of\",first, \"and\",Second,\"is\",first+Second)"
   ]
  },
  {
   "cell_type": "code",
   "execution_count": null,
   "id": "23576c28",
   "metadata": {},
   "outputs": [],
   "source": []
  }
 ],
 "metadata": {
  "kernelspec": {
   "display_name": "Python 3 (ipykernel)",
   "language": "python",
   "name": "python3"
  },
  "language_info": {
   "codemirror_mode": {
    "name": "ipython",
    "version": 3
   },
   "file_extension": ".py",
   "mimetype": "text/x-python",
   "name": "python",
   "nbconvert_exporter": "python",
   "pygments_lexer": "ipython3",
   "version": "3.9.7"
  }
 },
 "nbformat": 4,
 "nbformat_minor": 5
}
